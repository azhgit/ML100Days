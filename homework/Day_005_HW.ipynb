{
 "cells": [
  {
   "cell_type": "code",
   "execution_count": 32,
   "metadata": {},
   "outputs": [
    {
     "name": "stdout",
     "output_type": "stream",
     "text": [
      "                                                      0\n",
      "0     n00015388_157\\thttp://farm1.static.flickr.com/...\n",
      "1     n00015388_238\\thttp://farm2.static.flickr.com/...\n",
      "2     n00015388_304\\thttp://farm1.static.flickr.com/...\n",
      "3     n00015388_327\\thttp://farm4.static.flickr.com/...\n",
      "4     n00015388_355\\thttp://img100.imageshack.us/img...\n",
      "...                                                 ...\n",
      "9990  n00433802_5197\\thttp://grfx.cstv.com/photos/sc...\n",
      "9991  n00433802_5202\\thttp://farm2.static.flickr.com...\n",
      "9992  n00433802_5204\\thttp://static.flickr.com/150/3...\n",
      "9993  n00433802_5208\\thttp://3.bp.blogspot.com/_9T2c...\n",
      "9994  n00433802_5211\\thttp://www.loudoungymnastics.c...\n",
      "\n",
      "[9995 rows x 1 columns]\n"
     ]
    }
   ],
   "source": [
    "import os\n",
    "import numpy as np\n",
    "import pandas as pd\n",
    "\n",
    "dir_data = './data/'\n",
    "textFile = os.path.join(dir_data, 'day005.txt')\n",
    "\n",
    "with open(textFile,'r',encoding=\"utf-8\") as f:\n",
    "    data = f.readlines()\n",
    "# print(data)\n",
    "\n",
    "df = pd.DataFrame(data)\n",
    "print(df)"
   ]
  },
  {
   "cell_type": "code",
   "execution_count": 33,
   "metadata": {},
   "outputs": [
    {
     "name": "stdout",
     "output_type": "stream",
     "text": [
      "                                                   0\n",
      "0  n00015388_157\\thttp://farm1.static.flickr.com/...\n",
      "1  n00015388_238\\thttp://farm2.static.flickr.com/...\n",
      "2  n00015388_304\\thttp://farm1.static.flickr.com/...\n",
      "3  n00015388_327\\thttp://farm4.static.flickr.com/...\n",
      "4  n00015388_355\\thttp://img100.imageshack.us/img...\n"
     ]
    }
   ],
   "source": [
    "firstFive = df.head()\n",
    "print(firstFive)"
   ]
  },
  {
   "cell_type": "code",
   "execution_count": 34,
   "metadata": {},
   "outputs": [
    {
     "name": "stdout",
     "output_type": "stream",
     "text": [
      "0\n"
     ]
    }
   ],
   "source": []
  }
 ],
 "metadata": {
  "kernelspec": {
   "display_name": "Python 3",
   "language": "python",
   "name": "python3"
  },
  "language_info": {
   "codemirror_mode": {
    "name": "ipython",
    "version": 3
   },
   "file_extension": ".py",
   "mimetype": "text/x-python",
   "name": "python",
   "nbconvert_exporter": "python",
   "pygments_lexer": "ipython3",
   "version": "3.7.6"
  }
 },
 "nbformat": 4,
 "nbformat_minor": 2
}
